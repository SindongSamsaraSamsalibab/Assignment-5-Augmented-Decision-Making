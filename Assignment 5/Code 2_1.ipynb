{
 "cells": [
  {
   "cell_type": "code",
   "execution_count": 1,
   "metadata": {},
   "outputs": [],
   "source": [
    "import os\n",
    "import pandas as pd\n",
    "import numpy as np\n",
    "import plotly.express as px\n",
    "import plotly.graph_objects as go\n",
    "import dash\n",
    "from dash import dcc, html, Input, Output\n",
    "import tkinter as tk\n",
    "from tkinter import filedialog"
   ]
  },
  {
   "cell_type": "code",
   "execution_count": 2,
   "metadata": {},
   "outputs": [
    {
     "name": "stdout",
     "output_type": "stream",
     "text": [
      "Select Latitude File\n",
      "Latitude file loaded: C:/Users/cs9bg/Desktop/Augmented Decision Making/Assignment 5/2024-12-10 12-00-00/GPS.latitude.csv\n",
      "Select Longitude File\n",
      "Longitude file loaded: C:/Users/cs9bg/Desktop/Augmented Decision Making/Assignment 5/2024-12-10 12-00-00/GPS.longitude.csv\n",
      "Select Vibration 1 File\n",
      "Vibration1 file loaded: C:/Users/cs9bg/Desktop/Augmented Decision Making/Assignment 5/2024-12-10 12-00-00/CH1_ACCEL1Z1.csv\n",
      "Select Vibration 2 File\n",
      "Vibration2 file loaded: C:/Users/cs9bg/Desktop/Augmented Decision Making/Assignment 5/2024-12-10 12-00-00/CH2_ACCEL1Z2.csv\n",
      "Select Speed File\n",
      "Speed file loaded: C:/Users/cs9bg/Desktop/Augmented Decision Making/Assignment 5/2024-12-10 12-00-00/GPS.speed.csv\n"
     ]
    }
   ],
   "source": [
    "# ====================\n",
    "# Data Loading using Tkinter\n",
    "# ====================\n",
    "root = tk.Tk()\n",
    "root.withdraw()  # Hide the root Tk window\n",
    "\n",
    "# Define file keys for CSV files.\n",
    "files = {\n",
    "    \"latitude\": None,\n",
    "    \"longitude\": None,\n",
    "    \"vibration1\": None,\n",
    "    \"vibration2\": None,\n",
    "    \"speed\": None\n",
    "}\n",
    "\n",
    "def load_file(key):\n",
    "    file_path = filedialog.askopenfilename(filetypes=[(\"CSV Files\", \"*.csv\")])\n",
    "    if file_path:\n",
    "        files[key] = file_path\n",
    "        print(f\"{key.capitalize()} file loaded: {file_path}\")\n",
    "\n",
    "print(\"Select Latitude File\")\n",
    "load_file(\"latitude\")\n",
    "print(\"Select Longitude File\")\n",
    "load_file(\"longitude\")\n",
    "print(\"Select Vibration 1 File\")\n",
    "load_file(\"vibration1\")\n",
    "print(\"Select Vibration 2 File\")\n",
    "load_file(\"vibration2\")\n",
    "print(\"Select Speed File\")\n",
    "load_file(\"speed\")\n",
    "\n",
    "# Load each CSV into a DataFrame and add a 'timestamp' using the row index.\n",
    "dataframes = {}\n",
    "for key, file_path in files.items():\n",
    "    if file_path:\n",
    "        df = pd.read_csv(file_path, header=None, names=[key])\n",
    "        df['timestamp'] = df.index\n",
    "        dataframes[key] = df\n",
    "    else:\n",
    "        print(f\"{key.capitalize()} file not selected.\")"
   ]
  },
  {
   "cell_type": "code",
   "execution_count": 3,
   "metadata": {},
   "outputs": [],
   "source": [
    "# ====================\n",
    "# Create GPS DataFrame by merging latitude and longitude.\n",
    "# ====================\n",
    "if \"latitude\" in dataframes and \"longitude\" in dataframes:\n",
    "    df_gps = pd.merge(dataframes[\"latitude\"], dataframes[\"longitude\"], on=\"timestamp\")\n",
    "    # Rename columns for consistency\n",
    "    df_gps = df_gps.rename(columns={\"latitude\": \"Latitude\", \"longitude\": \"Longitude\"})\n",
    "    # Add an index column for use in the interactive plot\n",
    "    df_gps[\"PointIndex\"] = df_gps.index\n",
    "else:\n",
    "    print(\"Latitude or Longitude data is missing.\")\n",
    "    df_gps = pd.DataFrame(columns=[\"Latitude\", \"Longitude\", \"PointIndex\"])\n"
   ]
  },
  {
   "cell_type": "code",
   "execution_count": 4,
   "metadata": {},
   "outputs": [],
   "source": [
    "# ====================\n",
    "# Merge the two vibration signals on 'timestamp'\n",
    "# ====================\n",
    "if \"vibration1\" in dataframes and \"vibration2\" in dataframes:\n",
    "    df_vibration_merged = pd.merge(\n",
    "        dataframes[\"vibration1\"],\n",
    "        dataframes[\"vibration2\"],\n",
    "        on=\"timestamp\"\n",
    "        # When the column names differ (here: vibration1 vs vibration2), suffixes are not needed.\n",
    "    )\n",
    "    # You may rename columns if desired; here they remain \"vibration1\" and \"vibration2\"\n",
    "else:\n",
    "    print(\"Vibration data files are missing.\")\n",
    "    df_vibration_merged = pd.DataFrame()\n"
   ]
  },
  {
   "cell_type": "code",
   "execution_count": 5,
   "metadata": {},
   "outputs": [
    {
     "name": "stdout",
     "output_type": "stream",
     "text": [
      "Segmented vibration data shape: (7199, 5000, 2)\n"
     ]
    }
   ],
   "source": [
    "# ====================\n",
    "# Data Preprocessing and Segmentation for Vibration Data\n",
    "# ====================\n",
    "dt_vibration = 0.002  # seconds per sample (e.g. 500 Hz sampling rate)\n",
    "segment_duration_seconds = 10\n",
    "segment_length = int(segment_duration_seconds / dt_vibration)\n",
    "if not df_vibration_merged.empty:\n",
    "    num_segments = len(df_vibration_merged) // segment_length\n",
    "    segments = []\n",
    "    for i in range(num_segments):\n",
    "        seg = df_vibration_merged.iloc[i * segment_length: (i + 1) * segment_length][[\"vibration1\", \"vibration2\"]].values\n",
    "        segments.append(seg)\n",
    "    segments = np.array(segments)\n",
    "    print(\"Segmented vibration data shape:\", segments.shape)\n",
    "else:\n",
    "    segments = np.array([])\n",
    "    print(\"No vibration data available for segmentation.\")"
   ]
  },
  {
   "cell_type": "code",
   "execution_count": 6,
   "metadata": {},
   "outputs": [
    {
     "name": "stderr",
     "output_type": "stream",
     "text": [
      "C:\\Users\\cs9bg\\AppData\\Local\\Temp\\ipykernel_31100\\805082334.py:8: DeprecationWarning: *scatter_mapbox* is deprecated! Use *scatter_map* instead. Learn more at: https://plotly.com/python/mapbox-to-maplibre/\n",
      "  map_fig = px.scatter_mapbox(\n"
     ]
    }
   ],
   "source": [
    "# ====================\n",
    "# Build the Interactive Dash App\n",
    "# ====================\n",
    "\n",
    "# Create the interactive GPS map using Plotly Express.\n",
    "if not df_gps.empty:\n",
    "    # Use custom_data to store the point index so that it will be available in callbacks.\n",
    "    map_fig = px.scatter_mapbox(\n",
    "        df_gps,\n",
    "        lat=\"Latitude\",\n",
    "        lon=\"Longitude\",\n",
    "        custom_data=[\"PointIndex\"],\n",
    "        zoom=10,\n",
    "        title=\"GPS Points with Vibration Data\"\n",
    "    )\n",
    "    map_fig.update_layout(mapbox_style=\"open-street-map\", height=600)\n",
    "else:\n",
    "    map_fig = go.Figure()\n",
    "    map_fig.update_layout(title=\"No GPS Data Available\", height=600)\n",
    "\n",
    "# Create an initial empty vibration plot figure.\n",
    "vib_empty_fig = go.Figure()\n",
    "vib_empty_fig.update_layout(\n",
    "    title=\"Vibration Signal\",\n",
    "    xaxis_title=\"Time (s)\",\n",
    "    yaxis_title=\"Acceleration\"\n",
    ")\n",
    "\n",
    "# Initialize Dash app.\n",
    "app = dash.Dash(__name__)\n",
    "\n",
    "app.layout = html.Div([\n",
    "    html.Div([\n",
    "        dcc.Graph(id=\"gps-map\", figure=map_fig)\n",
    "    ], style={'width': '48%', 'display': 'inline-block', 'vertical-align': 'top'}),\n",
    "    html.Div([\n",
    "        dcc.Graph(id=\"vibration-plot\", figure=vib_empty_fig)\n",
    "    ], style={'width': '48%', 'display': 'inline-block', 'vertical-align': 'top'})\n",
    "])\n"
   ]
  },
  {
   "cell_type": "code",
   "execution_count": 8,
   "metadata": {},
   "outputs": [
    {
     "data": {
      "text/html": [
       "\n",
       "        <iframe\n",
       "            width=\"100%\"\n",
       "            height=\"650\"\n",
       "            src=\"http://127.0.0.1:8060/\"\n",
       "            frameborder=\"0\"\n",
       "            allowfullscreen\n",
       "            \n",
       "        ></iframe>\n",
       "        "
      ],
      "text/plain": [
       "<IPython.lib.display.IFrame at 0x22280166fd0>"
      ]
     },
     "metadata": {},
     "output_type": "display_data"
    }
   ],
   "source": [
    "# --------------------\n",
    "# Callback to Update the Vibration Plot Based on Clicked GPS Point\n",
    "# --------------------\n",
    "@app.callback(\n",
    "    Output('vibration-plot', 'figure'),\n",
    "    [Input('gps-map', 'clickData')]\n",
    ")\n",
    "def update_vibration_plot(clickData):\n",
    "    # If no point is selected, return the empty vibration figure.\n",
    "    if clickData is None:\n",
    "        return vib_empty_fig\n",
    "\n",
    "    # Retrieve the selected GPS point index from custom_data.\n",
    "    point_index = clickData['points'][0]['pointIndex']\n",
    "\n",
    "    if segments.size == 0:\n",
    "        empty_fig = go.Figure()\n",
    "        empty_fig.update_layout(\n",
    "            title=\"No Vibration Data Available\",\n",
    "            xaxis_title=\"Time (s)\",\n",
    "            yaxis_title=\"Acceleration\"\n",
    "        )\n",
    "        return empty_fig\n",
    "\n",
    "    # Map the GPS point to a vibration segment. If the selected index exceeds\n",
    "    # the available number of segments, use the last segment as fallback.\n",
    "    if point_index < segments.shape[0]:\n",
    "        selected_segment = segments[point_index]\n",
    "    else:\n",
    "        selected_segment = segments[-1]\n",
    "\n",
    "    # Create a time axis for the selected segment.\n",
    "    time_axis = np.arange(segment_length) * dt_vibration\n",
    "\n",
    "    vib_fig = go.Figure()\n",
    "    vib_fig.add_trace(go.Scatter(\n",
    "        x=time_axis,\n",
    "        y=selected_segment[:, 0],\n",
    "        mode='lines',\n",
    "        name='Vibration Channel 1'\n",
    "    ))\n",
    "    vib_fig.add_trace(go.Scatter(\n",
    "        x=time_axis,\n",
    "        y=selected_segment[:, 1],\n",
    "        mode='lines',\n",
    "        name='Vibration Channel 2'\n",
    "    ))\n",
    "    vib_fig.update_layout(\n",
    "        title=f\"Vibration Signal for GPS Point {point_index}\",\n",
    "        xaxis_title=\"Time (s)\",\n",
    "        yaxis_title=\"Acceleration\"\n",
    "    )\n",
    "    return vib_fig\n",
    "\n",
    "# ====================\n",
    "# Run the Dash App\n",
    "# ====================\n",
    "if __name__ == \"__main__\":\n",
    "    app.run(debug=True, port=8060)"
   ]
  },
  {
   "cell_type": "markdown",
   "metadata": {},
   "source": [
    "<div style=\"border: 1px solid #ccc; padding: 10px; border-radius: 8px;\">\n",
    "  <h3 style=\"margin-top:0;\">Explanation</h3>\n",
    "  <p> The map above represents vibrations along a track located in the middle of Sweden. By pressing the various blue points along the map, one can observe its vibration data on the right graph. The vibration data showcases the vibration accerelation over a timespan of a few seconds. This type of data is very important when measuring the health and saftey of the rails and all its components. Some of these components include joints and turnouts. The location of these can be located in the file called Code 1. </p>\n",
    "</div>"
   ]
  }
 ],
 "metadata": {
  "kernelspec": {
   "display_name": "Python 3 (ipykernel)",
   "language": "python",
   "name": "python3"
  },
  "language_info": {
   "codemirror_mode": {
    "name": "ipython",
    "version": 3
   },
   "file_extension": ".py",
   "mimetype": "text/x-python",
   "name": "python",
   "nbconvert_exporter": "python",
   "pygments_lexer": "ipython3",
   "version": "3.8.8"
  }
 },
 "nbformat": 4,
 "nbformat_minor": 4
}
